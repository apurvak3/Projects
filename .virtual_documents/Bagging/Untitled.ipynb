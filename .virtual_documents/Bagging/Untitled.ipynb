from sklearn.datasets import make_classification
from sklearn.tree import DecisionTreeClassifier
from sklearn.model_selection import train_test_split
from sklearn.ensemble import BaggingClassifier



X,y = make_classification(n_samples=500 , n_features=4, random_state=42)


X_train,X_test,y_train,y_test=train_test_split(X,y)



model=BaggingClassifier(base_estimator=DecisionTreeClasifier, n_estimator=10, random_state=42) 



