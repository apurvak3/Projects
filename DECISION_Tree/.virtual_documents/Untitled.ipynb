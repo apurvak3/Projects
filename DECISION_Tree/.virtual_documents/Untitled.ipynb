from sklearn.tree import DecisionTreeClassifier
from sklearn.datasets import load_iris
from sklearn import tree



X, y = load_iris(return_X_y=True)



clf = DecisionTreeClassifier(criterion="gini")  # or "entropy"
clf = clf.fit(X, y)


tree.plot_tree(clf, filled=True)



