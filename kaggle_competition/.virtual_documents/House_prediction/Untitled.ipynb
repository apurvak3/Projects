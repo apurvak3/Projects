import pandas as pd
import seaborn as sns
import numpy as np
import matplotlib.pyplot as plt



df_1 = pd.read_csv("train.csv")
df_2=pd.read_csv("test.csv")

if 'SalePrice' not in df_2.columns:
    df_2['SalePrice'] = 0
df = pd.concat([df_1, df_2], axis = 0)
df = df.set_index('Id')



df.head()


df_null  = df[df.isnull().sum()[df.isnull().sum()>0].index]


df_null.head()


sns.heatmap(df_null.isnull())


df_objects =  df[df.select_dtypes(include=['object']).columns]
df = df.drop(df[df_objects.isna().sum()[df_objects.isna().sum() > 1100].index], axis = 1)


df_objects = df_objects.drop(df_objects[df_objects.isna().sum()[df_objects.isna().sum() > 1100].index], axis = 1)

df_objects = df_objects.fillna('null')

df_objects_encoded = pd.get_dummies(df_objects)


df_objects['Utilities'].value_counts()


for i in df_objects_encoded.columns:
    if 'null' in i:
        df_objects_encoded = df_objects_encoded.drop(i, axis = 1)
        print(i)


new_df = pd.concat([df, df_objects_encoded], axis = 1)


len(new_df.columns)


len(df.columns), len(df_objects_encoded.columns)



new_df = new_df.drop(df.select_dtypes(include=['object']), axis = 1)

new_df.isna().sum()[new_df.isna().sum() > 0]


Mode_columns = ['GarageCars', 'GarageYrBlt', 'BsmtFullBath', 'BsmtHalfBath']
Mean_columns = ['LotFrontage', 'MasVnrArea', 'BsmtFinSF1', 'BsmtFinSF2', 'BsmtUnfSF',
                'TotalBsmtSF', 'GarageArea']

for i in Mode_columns:
    new_df[i] = new_df[i].fillna(new_df[i].mode()[0])

for i in Mean_columns:
    new_df[i] = new_df[i].fillna(np.round(new_df[i].mean()))

new_df.isna().sum()[new_df.isna().sum() > 0] 


training_data = new_df[0:len(df_1)]
testing_data = new_df[len(df_1):]
testing_data = testing_data.drop(columns='SalePrice')


from sklearn.model_selection import train_test_split
from sklearn.metrics import mean_squared_error 
from sklearn.linear_model import LinearRegression
from xgboost import XGBRegressor
from sklearn.ensemble import RandomForestRegressor


X = training_data.drop(columns='SalePrice')
y = training_data['SalePrice']
X_train, X_test, Y_train, Y_test = train_test_split(X, y, test_size = 0.2)
Y_train = np.reshape(Y_train,(-1, 1))
Y_test = np.reshape(Y_test,(-1, 1))
X_train.shape, Y_train.shape


X_train, X_test ,y_train , y_test = train_test_split(X , y , test_size=0.2)



lr=LinearRegression()
lr.fit(X_train ,y_train)



model_2=XGBRegressor(n_estimators=1000, learning_rate=0.1, random_state=42)
model_2.fit(X_train ,y_train)


model_3=RandomForestRegressor(n_estimators=1000)
model_3.fit(X_train , y_train)


print("LinearRegression MSE:", mean_squared_error(y_test , lr.predict(X_test)))
print("XGBRegressor" ,mean_squared_error(y_test ,model_2.predict(X_test) ))
print("RandomForestRegressor",mean_squared_error(y_test, model_3.predict(X_test)))



sort_indices = np.argsort(Y_test)

# Plot
plt.figure(figsize=(10, 6))
plt.plot(np.arange(len(Y_test)), Y_test, label='Original')
plt.plot(np.arange(len(Y_test)), X_test, label='Predicted')
plt.xlabel('Index')
plt.ylabel('Price')
plt.title('Original vs Predicted Prices')
plt.legend()
plt.show()


pred = model_2.predict(testing_data)

final = pd.DataFrame()
final['Id'] = testing_data.index
final['SalePrice'] = pred

# Write DataFrame to a CSV file without index
final.to_csv('output.csv', index=False)



